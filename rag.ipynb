{
 "cells": [
  {
   "cell_type": "code",
   "execution_count": 1,
   "id": "e1965c00",
   "metadata": {},
   "outputs": [],
   "source": [
    "import os\n",
    "\n",
    "from IPython.display import display, Markdown, clear_output\n",
    "from dotenv import load_dotenv\n",
    "from langchain_ollama import ChatOllama, OllamaEmbeddings\n",
    "from langchain_deepseek import ChatDeepSeek\n",
    "from langchain_core.messages import SystemMessage, HumanMessage\n",
    "from langchain_core.prompts import ChatPromptTemplate, MessagesPlaceholder\n",
    "from langchain_text_splitters import RecursiveCharacterTextSplitter\n",
    "from langchain_community.document_loaders import TextLoader\n",
    "from langchain_chroma import Chroma\n",
    "from langchain.chains import ConversationalRetrievalChain\n",
    "from langchain.docstore.document import Document\n",
    "#from langchain.agents import Tool\n",
    "from datetime import datetime\n",
    "from langchain import hub\n",
    "from langchain_core.tools import Tool\n",
    "from langchain.agents import AgentExecutor, create_react_agent\n",
    "from langchain.memory import ConversationBufferMemory\n",
    "from pprint import pprint\n",
    "\n",
    "from settings import vectorizing_params, retriever_params\n",
    "\n",
    "\n",
    "# Chargement des clés d'API se trouvant dans le fichier .env.  \n",
    "# Ceci permet d'utiliser des modèles en ligne comme gpt-x, deepseek-x, etc...\n",
    "load_dotenv(override=True)\n",
    "\n",
    "#model = ChatOllama(model=\"llama3.2\", temperature=0)\n",
    "model = ChatDeepSeek(model=\"deepseek-chat\", api_key=os.getenv(\"DEEPSEEK_API_KEY\"))\n",
    "\n",
    "# Modèle spécialisé pour convertir du texte en vecteurs (https://ollama.com/library/nomic-embed-text).\n",
    "# Il existe d'autres modèles d'embeddings (comme \"all-MiniLM-L6-v2\", \"text-embedding-ada-002\", etc.) \n",
    "# avec des performances et dimensions variées selon les cas d’usage (recherche sémantique, classification, etc.).\n",
    "embedder = OllamaEmbeddings(model=\"nomic-embed-text\")"
   ]
  },
  {
   "cell_type": "markdown",
   "id": "96664237",
   "metadata": {},
   "source": [
    "### Creation du vectorstore et du retriever"
   ]
  },
  {
   "cell_type": "code",
   "execution_count": 2,
   "id": "8738998e",
   "metadata": {},
   "outputs": [
    {
     "name": "stdout",
     "output_type": "stream",
     "text": [
      "Vectorstore created with 0 chunks.\n"
     ]
    }
   ],
   "source": [
    "current_dir = os.getcwd()\n",
    "data_dir = os.path.join(current_dir, \"data\")\n",
    "db_dir = os.path.join(current_dir, \"db\")\n",
    "\n",
    "text_splitter = RecursiveCharacterTextSplitter(\n",
    "    chunk_size=vectorizing_params['chunk_size'],\n",
    "    chunk_overlap=vectorizing_params['chunk_overlap']\n",
    ")\n",
    "\n",
    "documents = []\n",
    "\n",
    "if not os.path.exists(db_dir):\n",
    "    print(\"Initializing vector store...\")   \n",
    "\n",
    "\n",
    "    for root, dirs, files in os.walk(data_dir):\n",
    "        for file in files:\n",
    "            if file.endswith(\".txt\"):\n",
    "                file_path = os.path.join(root, file)\n",
    "\n",
    "                with open(file_path, \"r\", encoding=\"utf-8\") as f:\n",
    "                    full_text = f.read()\n",
    "\n",
    "                # Extract themes and subthemes from the file structure\n",
    "                relative_path = os.path.relpath(file_path, \"data\")\n",
    "                parts = relative_path.split(os.sep)\n",
    "                large_theme = parts[0]\n",
    "                theme = parts[1]\n",
    "                subtheme = parts[2].replace(\".txt\", \"\")\n",
    "\n",
    "                # Chunk splitting\n",
    "                chunks = text_splitter.split_text(full_text)\n",
    "                for i, chunk in enumerate(chunks):\n",
    "                    documents.append(\n",
    "                        Document(\n",
    "                            page_content=chunk,\n",
    "                            metadata={\n",
    "                                \"large_theme\": large_theme,\n",
    "                                \"theme\": theme,\n",
    "                                \"subtheme\": subtheme,\n",
    "                                \"chunk_id\": i,\n",
    "                                \"source\": file_path\n",
    "                            }\n",
    "                        )\n",
    "                    )\n",
    "\n",
    "    vectorstore = Chroma.from_documents(\n",
    "        documents,\n",
    "        embedding=embedder,\n",
    "        collection_name=\"droits\",\n",
    "        persist_directory=db_dir\n",
    "    )\n",
    "else:\n",
    "    vectorstore = Chroma(\n",
    "        persist_directory=db_dir,\n",
    "        embedding_function=embedder,\n",
    "        collection_name=\"droits\"\n",
    "    )\n",
    "\n",
    "#db = Chroma.from_documents(chunks, embedder, persist_directory=db_dir)\n",
    "\n",
    "print(f\"Vectorstore created with {len(documents)} chunks.\")\n",
    "\n",
    "#db = Chroma(persist_directory=db_dir, embedding_function=embedder)\n",
    "\n",
    "retriever = vectorstore.as_retriever(\n",
    "    search_type=retriever_params['search_type'],\n",
    "    search_kwargs=retriever_params['search_kwargs']\n",
    ")"
   ]
  },
  {
   "cell_type": "code",
   "execution_count": 3,
   "id": "584d813c",
   "metadata": {},
   "outputs": [],
   "source": [
    "qa_chain = ConversationalRetrievalChain.from_llm(llm=model, retriever=retriever)\n",
    "\n",
    "chat_history = [\n",
    "    SystemMessage(content=\"Tu es un assistant qui aide à trouver des informations concernant les droits disponibles.\")\n",
    "]\n",
    "\n",
    "def ask_rag(query: str) -> str:\n",
    "\n",
    "    relevant_chunks = retriever.invoke(query)\n",
    "            \n",
    "    input_message = (\n",
    "        \"Voici des documents qui vont t'aider à répondre à la question : \"\n",
    "        + query\n",
    "        + \"\\n\\nDocuments pertinents : \\n\"\n",
    "        + \"\\n\\n\".join([chunk.page_content for chunk in relevant_chunks])\n",
    "        + \"\\n\\nDonne une réponse basée uniquement sur les documents qui te sont fournis.\"\n",
    "    )\n",
    "\n",
    "    result = qa_chain({\n",
    "        \"question\": query,\n",
    "        \"chat_history\": chat_history\n",
    "    })\n",
    "    chat_history.append((query, result[\"answer\"]))\n",
    "    return result[\"answer\"]\n",
    "\n",
    "rag_tool = Tool(\n",
    "    name=\"consult_droit\",\n",
    "    func=ask_rag,\n",
    "    description=\"Répond à des questions sur les droits sociaux (APL, RSA, etc.). Fournit des réponses fiables extraites de documents organisés par thème.\"\n",
    ")"
   ]
  },
  {
   "cell_type": "markdown",
   "id": "843a27f7",
   "metadata": {},
   "source": [
    "### TEST DE L'AGENT"
   ]
  },
  {
   "cell_type": "code",
   "execution_count": 5,
   "id": "e1b58770",
   "metadata": {},
   "outputs": [
    {
     "data": {
      "text/markdown": [
       "**Vous :** exit"
      ],
      "text/plain": [
       "<IPython.core.display.Markdown object>"
      ]
     },
     "metadata": {},
     "output_type": "display_data"
    },
    {
     "name": "stdout",
     "output_type": "stream",
     "text": [
      "Fin de la conversation.\n"
     ]
    }
   ],
   "source": [
    "tools=[\n",
    "    rag_tool\n",
    "]\n",
    "\n",
    "prompt = hub.pull(\"hwchase17/react-chat\")\n",
    "\n",
    "memory= ConversationBufferMemory(memory_key=\"chat_history\", return_messages=True)\n",
    "#creation agent\n",
    "agent=create_react_agent(\n",
    "    llm=model,\n",
    "    tools=tools,\n",
    "    prompt=prompt,\n",
    "    stop_sequence=True    \n",
    ")\n",
    "\n",
    "#encapsulation agent\n",
    "#enlever dans la version final mettre Verbose a false\n",
    "executor=AgentExecutor.from_agent_and_tools( \n",
    "    agent=agent,\n",
    "    tools=tools,\n",
    "    memory=memory,\n",
    "    verbose=True,\n",
    "    max_iterations=5,\n",
    "    handle_parsing_errors=True\n",
    ")\n",
    "\n",
    "while True:\n",
    "    user_input = input(\"Vous : \")\n",
    "    clear_output(wait=True)                         # Efface l'affichage précédent\n",
    "    display(Markdown(f\"**Vous :** {user_input}\"))   # Affiche la requête de l'utilisateur\n",
    "\n",
    "    if user_input.lower() in [\"stop\", \"exit\", \"quit\"]:\n",
    "        print(\"Fin de la conversation.\")\n",
    "        break\n",
    "\n",
    "    response = executor.invoke({\"input\": user_input})\n",
    "    display(Markdown(response[\"output\"]))"
   ]
  }
 ],
 "metadata": {
  "kernelspec": {
   "display_name": ".venv",
   "language": "python",
   "name": "python3"
  },
  "language_info": {
   "codemirror_mode": {
    "name": "ipython",
    "version": 3
   },
   "file_extension": ".py",
   "mimetype": "text/x-python",
   "name": "python",
   "nbconvert_exporter": "python",
   "pygments_lexer": "ipython3",
   "version": "3.13.3"
  }
 },
 "nbformat": 4,
 "nbformat_minor": 5
}
